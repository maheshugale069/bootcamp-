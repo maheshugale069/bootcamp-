{
 "cells": [
  {
   "cell_type": "code",
   "execution_count": 1,
   "id": "817d1748-b5fd-4cea-986f-388e78115085",
   "metadata": {},
   "outputs": [
    {
     "ename": "SyntaxError",
     "evalue": "invalid syntax (2612957446.py, line 3)",
     "output_type": "error",
     "traceback": [
      "\u001b[1;36m  Cell \u001b[1;32mIn[1], line 3\u001b[1;36m\u001b[0m\n\u001b[1;33m    Requirement already satisfied: nltk in /usr/local/lib/python3.11/dist-packages (3.9.1)\u001b[0m\n\u001b[1;37m                ^\u001b[0m\n\u001b[1;31mSyntaxError\u001b[0m\u001b[1;31m:\u001b[0m invalid syntax\n"
     ]
    }
   ],
   "source": [
    "\n",
    "\n",
    "!pip install nltk\n",
    "     \n",
    "Requirement already satisfied: nltk in /usr/local/lib/python3.11/dist-packages (3.9.1)\n",
    "Requirement already satisfied: click in /usr/local/lib/python3.11/dist-packages (from nltk) (8.1.8)\n",
    "Requirement already satisfied: joblib in /usr/local/lib/python3.11/dist-packages (from nltk) (1.4.2)\n",
    "Requirement already satisfied: regex>=2021.8.3 in /usr/local/lib/python3.11/dist-packages (from nltk) (2024.11.6)\n",
    "Requirement already satisfied: tqdm in /usr/local/lib/python3.11/dist-packages (from nltk) (4.67.1)\n"
   ]
  },
  {
   "cell_type": "code",
   "execution_count": 3,
   "id": "bd1ab264-2d58-47d6-b481-b43ce9209a07",
   "metadata": {},
   "outputs": [
    {
     "name": "stderr",
     "output_type": "stream",
     "text": [
      "[nltk_data] Downloading package punkt to\n",
      "[nltk_data]     C:\\Users\\mahesh\\AppData\\Roaming\\nltk_data...\n",
      "[nltk_data]   Unzipping tokenizers\\punkt.zip.\n",
      "[nltk_data] Downloading package stopwords to\n",
      "[nltk_data]     C:\\Users\\mahesh\\AppData\\Roaming\\nltk_data...\n",
      "[nltk_data]   Unzipping corpora\\stopwords.zip.\n",
      "[nltk_data] Downloading package wordnet to\n",
      "[nltk_data]     C:\\Users\\mahesh\\AppData\\Roaming\\nltk_data...\n",
      "[nltk_data] Downloading package averaged_perceptron_tagger to\n",
      "[nltk_data]     C:\\Users\\mahesh\\AppData\\Roaming\\nltk_data...\n",
      "[nltk_data]   Unzipping taggers\\averaged_perceptron_tagger.zip.\n",
      "[nltk_data] Downloading package punkt_tab to\n",
      "[nltk_data]     C:\\Users\\mahesh\\AppData\\Roaming\\nltk_data...\n",
      "[nltk_data]   Unzipping tokenizers\\punkt_tab.zip.\n",
      "[nltk_data] Downloading package averaged_perceptron_tagger_eng to\n",
      "[nltk_data]     C:\\Users\\mahesh\\AppData\\Roaming\\nltk_data...\n",
      "[nltk_data]   Unzipping taggers\\averaged_perceptron_tagger_eng.zip.\n"
     ]
    },
    {
     "data": {
      "text/plain": [
       "True"
      ]
     },
     "execution_count": 3,
     "metadata": {},
     "output_type": "execute_result"
    }
   ],
   "source": [
    "\n",
    "\n",
    "import nltk\n",
    "from nltk.tokenize import sent_tokenize, word_tokenize\n",
    "from nltk.corpus import stopwords\n",
    "from nltk.stem import PorterStemmer\n",
    "from nltk.stem import WordNetLemmatizer\n",
    "from nltk import pos_tag\n",
    "\n",
    "# Ensure you have the required NLTK data packages\n",
    "nltk.download('punkt')\n",
    "nltk.download('stopwords')\n",
    "nltk.download('wordnet')\n",
    "nltk.download('averaged_perceptron_tagger')\n",
    "nltk.download('punkt_tab')\n",
    "nltk.download('averaged_perceptron_tagger_eng')"
   ]
  },
  {
   "cell_type": "code",
   "execution_count": 11,
   "id": "bfc90638-3556-4436-ac16-026561f40a1a",
   "metadata": {},
   "outputs": [
    {
     "name": "stdout",
     "output_type": "stream",
     "text": [
      "Photography is an art that captures the beauty of moments in time.', Whether it's a landscape, portrait, or an event, a photograph can tell a powerful story., 'Great photographers use their cameras as tools to convey emotions, memories, and scenes from everyday life.', 'The composition, lighting, and timing of a shot are key elements in creating stunning photos.', 'Photography also plays a significant role in digital media, social media, and marketing.', 'The evolution of camera technology, from film cameras to digital cameras, has revolutionized how we capture images.', 'Every photograph is a unique creation, reflecting the photographer's perspective and artistic style.\n"
     ]
    }
   ],
   "source": [
    "text=\"Photography is an art that captures the beauty of moments in time.', Whether it's a landscape, portrait, or an event, a photograph can tell a powerful story., 'Great photographers use their cameras as tools to convey emotions, memories, and scenes from everyday life.', 'The composition, lighting, and timing of a shot are key elements in creating stunning photos.', 'Photography also plays a significant role in digital media, social media, and marketing.', 'The evolution of camera technology, from film cameras to digital cameras, has revolutionized how we capture images.', 'Every photograph is a unique creation, reflecting the photographer's perspective and artistic style.\"\n",
    "print(text)\n",
    "     \n"
   ]
  },
  {
   "cell_type": "code",
   "execution_count": 13,
   "id": "4d8a2724-3450-436c-824f-c2b6db385703",
   "metadata": {},
   "outputs": [
    {
     "name": "stdout",
     "output_type": "stream",
     "text": [
      "Sentences: ['Photography is an art that captures the beauty of moments in time.', \"', Whether it's a landscape, portrait, or an event, a photograph can tell a powerful story., 'Great photographers use their cameras as tools to convey emotions, memories, and scenes from everyday life.\", \"', 'The composition, lighting, and timing of a shot are key elements in creating stunning photos.\", \"', 'Photography also plays a significant role in digital media, social media, and marketing.\", \"', 'The evolution of camera technology, from film cameras to digital cameras, has revolutionized how we capture images.\", \"', 'Every photograph is a unique creation, reflecting the photographer's perspective and artistic style.\"]\n",
      "Words: ['Photography', 'is', 'an', 'art', 'that', 'captures', 'the', 'beauty', 'of', 'moments', 'in', 'time', '.', \"'\", ',', 'Whether', 'it', \"'s\", 'a', 'landscape', ',', 'portrait', ',', 'or', 'an', 'event', ',', 'a', 'photograph', 'can', 'tell', 'a', 'powerful', 'story.', ',', \"'Great\", 'photographers', 'use', 'their', 'cameras', 'as', 'tools', 'to', 'convey', 'emotions', ',', 'memories', ',', 'and', 'scenes', 'from', 'everyday', 'life', '.', \"'\", ',', \"'The\", 'composition', ',', 'lighting', ',', 'and', 'timing', 'of', 'a', 'shot', 'are', 'key', 'elements', 'in', 'creating', 'stunning', 'photos', '.', \"'\", ',', \"'Photography\", 'also', 'plays', 'a', 'significant', 'role', 'in', 'digital', 'media', ',', 'social', 'media', ',', 'and', 'marketing', '.', \"'\", ',', \"'The\", 'evolution', 'of', 'camera', 'technology', ',', 'from', 'film', 'cameras', 'to', 'digital', 'cameras', ',', 'has', 'revolutionized', 'how', 'we', 'capture', 'images', '.', \"'\", ',', \"'Every\", 'photograph', 'is', 'a', 'unique', 'creation', ',', 'reflecting', 'the', 'photographer', \"'s\", 'perspective', 'and', 'artistic', 'style', '.']\n"
     ]
    }
   ],
   "source": [
    "sentences = sent_tokenize(text)\n",
    "words = word_tokenize(text)\n",
    "\n",
    "print(\"Sentences:\", sentences)\n",
    "print(\"Words:\", words)"
   ]
  },
  {
   "cell_type": "code",
   "execution_count": 15,
   "id": "b8bb1315-6218-4056-a755-5de186b54dfb",
   "metadata": {},
   "outputs": [
    {
     "name": "stdout",
     "output_type": "stream",
     "text": [
      "Filtered Words: ['Photography', 'art', 'captures', 'beauty', 'moments', 'time', 'Whether', 'landscape', 'portrait', 'event', 'photograph', 'tell', 'powerful', 'photographers', 'use', 'cameras', 'tools', 'convey', 'emotions', 'memories', 'scenes', 'everyday', 'life', 'composition', 'lighting', 'timing', 'shot', 'key', 'elements', 'creating', 'stunning', 'photos', 'also', 'plays', 'significant', 'role', 'digital', 'media', 'social', 'media', 'marketing', 'evolution', 'camera', 'technology', 'film', 'cameras', 'digital', 'cameras', 'revolutionized', 'capture', 'images', 'photograph', 'unique', 'creation', 'reflecting', 'photographer', 'perspective', 'artistic', 'style']\n"
     ]
    }
   ],
   "source": [
    "stop_words = set(stopwords.words('english'))\n",
    "filtered_words = [word for word in words if word.isalpha() and word not in stop_words]\n",
    "print(\"Filtered Words:\", filtered_words)"
   ]
  },
  {
   "cell_type": "code",
   "execution_count": 17,
   "id": "3e9a2f57-cdae-4ed1-8604-77ab2a1ce340",
   "metadata": {},
   "outputs": [
    {
     "name": "stdout",
     "output_type": "stream",
     "text": [
      "Stemmed Words: ['photographi', 'art', 'captur', 'beauti', 'moment', 'time', 'whether', 'landscap', 'portrait', 'event', 'photograph', 'tell', 'power', 'photograph', 'use', 'camera', 'tool', 'convey', 'emot', 'memori', 'scene', 'everyday', 'life', 'composit', 'light', 'time', 'shot', 'key', 'element', 'creat', 'stun', 'photo', 'also', 'play', 'signific', 'role', 'digit', 'media', 'social', 'media', 'market', 'evolut', 'camera', 'technolog', 'film', 'camera', 'digit', 'camera', 'revolution', 'captur', 'imag', 'photograph', 'uniqu', 'creation', 'reflect', 'photograph', 'perspect', 'artist', 'style']\n"
     ]
    }
   ],
   "source": [
    "stemmer = PorterStemmer()\n",
    "stemmed_words = [stemmer.stem(word) for word in filtered_words]\n",
    "\n",
    "print(\"Stemmed Words:\", stemmed_words)"
   ]
  },
  {
   "cell_type": "code",
   "execution_count": 19,
   "id": "487ab2fc-1acd-450b-b592-79eb1daeeedf",
   "metadata": {},
   "outputs": [
    {
     "name": "stdout",
     "output_type": "stream",
     "text": [
      "Lemmatized Words: ['Photography', 'art', 'capture', 'beauty', 'moment', 'time', 'Whether', 'landscape', 'portrait', 'event', 'photograph', 'tell', 'powerful', 'photographer', 'use', 'camera', 'tool', 'convey', 'emotion', 'memory', 'scene', 'everyday', 'life', 'composition', 'lighting', 'timing', 'shot', 'key', 'element', 'creating', 'stunning', 'photo', 'also', 'play', 'significant', 'role', 'digital', 'medium', 'social', 'medium', 'marketing', 'evolution', 'camera', 'technology', 'film', 'camera', 'digital', 'camera', 'revolutionized', 'capture', 'image', 'photograph', 'unique', 'creation', 'reflecting', 'photographer', 'perspective', 'artistic', 'style']\n"
     ]
    }
   ],
   "source": [
    "\n",
    "lemmatizer = WordNetLemmatizer()\n",
    "lemmatized_words = [lemmatizer.lemmatize(word) for word in filtered_words]\n",
    "\n",
    "print(\"Lemmatized Words:\", lemmatized_words)"
   ]
  },
  {
   "cell_type": "code",
   "execution_count": null,
   "id": "c8bd0232-0e10-4941-833d-deca1db58e8a",
   "metadata": {},
   "outputs": [],
   "source": []
  }
 ],
 "metadata": {
  "kernelspec": {
   "display_name": "Python [conda env:base] *",
   "language": "python",
   "name": "conda-base-py"
  },
  "language_info": {
   "codemirror_mode": {
    "name": "ipython",
    "version": 3
   },
   "file_extension": ".py",
   "mimetype": "text/x-python",
   "name": "python",
   "nbconvert_exporter": "python",
   "pygments_lexer": "ipython3",
   "version": "3.12.7"
  }
 },
 "nbformat": 4,
 "nbformat_minor": 5
}
