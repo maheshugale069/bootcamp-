{
 "cells": [
  {
   "cell_type": "code",
   "execution_count": null,
   "id": "92a2de5e-3a41-43fb-a1ac-872ef4e26846",
   "metadata": {},
   "outputs": [
    {
     "name": "stdout",
     "output_type": "stream",
     "text": [
      "Original Image Dimensions: 377x234, Channels: 3\n"
     ]
    }
   ],
   "source": [
    "import cv2\n",
    "\n",
    "# Load the image\n",
    "image = cv2.imread(\"aiimage.jpeg\")  # Replace with your image file path\n",
    "\n",
    "# Display the original image\n",
    "cv2.imshow(\"Original Image\", image)\n",
    "\n",
    "# Get image dimensions\n",
    "height, width, channels = image.shape\n",
    "print(f\"Original Image Dimensions: {width}x{height}, Channels: {channels}\")\n",
    "\n",
    "# Resize the image to 400x256 pixels\n",
    "resized_image = cv2.resize(image, (400, 256))\n",
    "cv2.imshow(\"Resized Image\", resized_image)\n",
    "\n",
    "# Flip the image horizontally\n",
    "flipped_horizontally = cv2.flip(image, 1)\n",
    "cv2.imshow(\"Flipped Horizontally\", flipped_horizontally)\n",
    "\n",
    "# Flip the image vertically\n",
    "flipped_vertically = cv2.flip(image, 0)\n",
    "cv2.imshow(\"Flipped Vertically\", flipped_vertically)\n",
    "\n",
    "# Crop the image (example: crop a 200x150 region from top-left corner)\n",
    "cropped_image = image[0:150, 0:200]\n",
    "cv2.imshow(\"Cropped Image\", cropped_image)\n",
    "\n",
    "# Save modified images\n",
    "cv2.imwrite(\"resized_image.jpg\", resized_image)\n",
    "cv2.imwrite(\"flipped_horizontally.jpg\", flipped_horizontally)\n",
    "cv2.imwrite(\"flipped_vertically.jpg\", flipped_vertically)\n",
    "cv2.imwrite(\"cropped_image.jpg\", cropped_image)\n",
    "\n",
    "\n",
    "cv2.waitKey(0)\n",
    "cv2.destroyAllWindows()\n"
   ]
  },
  {
   "cell_type": "code",
   "execution_count": null,
   "id": "39fadc8b-92e1-41c4-8a68-3d1024c0f5e0",
   "metadata": {},
   "outputs": [],
   "source": []
  }
 ],
 "metadata": {
  "kernelspec": {
   "display_name": "Python [conda env:base] *",
   "language": "python",
   "name": "conda-base-py"
  },
  "language_info": {
   "codemirror_mode": {
    "name": "ipython",
    "version": 3
   },
   "file_extension": ".py",
   "mimetype": "text/x-python",
   "name": "python",
   "nbconvert_exporter": "python",
   "pygments_lexer": "ipython3",
   "version": "3.12.7"
  }
 },
 "nbformat": 4,
 "nbformat_minor": 5
}
