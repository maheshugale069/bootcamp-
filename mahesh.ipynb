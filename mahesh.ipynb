{
 "cells": [
  {
   "cell_type": "code",
   "execution_count": 4,
   "id": "4c77c301-bf00-4f62-b287-5d60850e02b1",
   "metadata": {},
   "outputs": [
    {
     "name": "stdout",
     "output_type": "stream",
     "text": [
      "Random Numbers: [38, 26, 42, 60, 74, 99, 30, 25, 38, 72]\n",
      "Even Numbers: [38, 26, 42, 60, 74, 30, 38, 72]\n"
     ]
    }
   ],
   "source": [
    "import random\n",
    "\n",
    "\n",
    "random_numbers = [random.randint(1, 100) for _ in range(10)]\n",
    "\n",
    "\n",
    "even_numbers = [num for num in random_numbers if num % 2 == 0]\n",
    "\n",
    "\n",
    "print(\"Random Numbers:\", random_numbers)\n",
    "print(\"Even Numbers:\", even_numbers)\n"
   ]
  },
  {
   "cell_type": "code",
   "execution_count": 2,
   "id": "76978b7c-b480-4ab1-a632-7f3cb22e4227",
   "metadata": {},
   "outputs": [
    {
     "name": "stdout",
     "output_type": "stream",
     "text": [
      "Original String: Hello World, Python is amazing!\n",
      "Reversed String: !gnizama si nohtyP ,dlroW olleH\n",
      "Words Reversed: amazing! is Python World, Hello\n"
     ]
    }
   ],
   "source": [
    "\n",
    "text = \"Hello World, Python is amazing!\"\n",
    "\n",
    "\n",
    "reversed_string = text[::-1]\n",
    "\n",
    "\n",
    "reversed_words = ' '.join(text.split()[::-1])\n",
    "\n",
    "\n",
    "print(\"Original String:\", text)\n",
    "print(\"Reversed String:\", reversed_string)\n",
    "print(\"Words Reversed:\", reversed_words)\n"
   ]
  },
  {
   "cell_type": "code",
   "execution_count": null,
   "id": "0a24b319-e7f4-4614-adf8-2c05f6e10ba3",
   "metadata": {},
   "outputs": [],
   "source": []
  }
 ],
 "metadata": {
  "kernelspec": {
   "display_name": "Python [conda env:base] *",
   "language": "python",
   "name": "conda-base-py"
  },
  "language_info": {
   "codemirror_mode": {
    "name": "ipython",
    "version": 3
   },
   "file_extension": ".py",
   "mimetype": "text/x-python",
   "name": "python",
   "nbconvert_exporter": "python",
   "pygments_lexer": "ipython3",
   "version": "3.12.7"
  }
 },
 "nbformat": 4,
 "nbformat_minor": 5
}
